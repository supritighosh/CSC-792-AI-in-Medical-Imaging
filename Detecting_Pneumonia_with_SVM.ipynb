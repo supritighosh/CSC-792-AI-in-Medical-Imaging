{
 "cells": [
  {
   "cell_type": "markdown",
   "metadata": {},
   "source": [
    "##### Detecting Pneumonia disease with SVM. I have used Sigmoid function. There are a total of 40 chest x-ray images where 20 images are Pneumonia chest x-ray and the other 20 images are Healthy chest x-ray. 80% of the chest x-ray images have been used for training purpose and the other 20% of the images have been used for testing purpose."
   ]
  },
  {
   "cell_type": "markdown",
   "metadata": {},
   "source": [
    "#### Import Libraries"
   ]
  },
  {
   "cell_type": "code",
   "execution_count": 1,
   "metadata": {
    "_cell_guid": "b1076dfc-b9ad-4769-8c92-a6c4dae69d19",
    "_uuid": "8f2839f25d086af736a60e9eeb907d3b93b6e0e5"
   },
   "outputs": [],
   "source": [
    "import os\n",
    "import numpy as np\n",
    "import pandas as pd \n",
    "import random\n",
    "import cv2\n",
    "import matplotlib.pyplot as plt\n",
    "import keras.backend as K\n",
    "import tensorflow as tf\n",
    "import warnings"
   ]
  },
  {
   "cell_type": "code",
   "execution_count": 2,
   "metadata": {},
   "outputs": [],
   "source": [
    "from random import shuffle \n",
    "from tqdm import tqdm \n",
    "from PIL import Image\n",
    "from keras.models import Model, Sequential\n",
    "from keras.layers import Input, Dense, Flatten, Dropout, BatchNormalization, Conv2D, SeparableConv2D, MaxPool2D, LeakyReLU, Activation\n",
    "from keras.optimizers import Adam\n",
    "from keras.preprocessing.image import ImageDataGenerator\n",
    "from keras.callbacks import ModelCheckpoint, ReduceLROnPlateau, EarlyStopping\n",
    "from sklearn.metrics import accuracy_score, confusion_matrix\n",
    "from sklearn.preprocessing import MinMaxScaler\n",
    "from sklearn import svm\n",
    "from sklearn.svm import SVC"
   ]
  },
  {
   "cell_type": "markdown",
   "metadata": {},
   "source": [
    "#### Dataset"
   ]
  },
  {
   "cell_type": "code",
   "execution_count": 3,
   "metadata": {},
   "outputs": [],
   "source": [
    "#Importing dataset\n",
    "\n",
    "in_path = './Dataset/'"
   ]
  },
  {
   "cell_type": "code",
   "execution_count": 4,
   "metadata": {},
   "outputs": [],
   "source": [
    "def extract_data(dimensions, batch_length):\n",
    "    tgen = ImageDataGenerator(rescale=1./255, zoom_range=0.3, vertical_flip=True)\n",
    "    test_val_datagen = ImageDataGenerator(rescale=1./255)\n",
    "    tgen_final = tgen.flow_from_directory(directory=in_path+'train', target_size=(dimensions, dimensions), batch_size=batch_length, class_mode='binary', shuffle=True)\n",
    "    test_gen = test_val_datagen.flow_from_directory(directory=in_path+'test', target_size=(dimensions, dimensions), batch_size=batch_length, class_mode='binary', shuffle=True)\n",
    "\n",
    "    test_data = []\n",
    "    test_labels = []\n",
    "    \n",
    "    train_data = []\n",
    "    train_labels = []\n",
    "\n",
    "    for normal_image in (os.listdir(in_path + 'test' + '/NORMAL/')):\n",
    "        normal_image = plt.imread(in_path+'test'+'/NORMAL/'+normal_image)\n",
    "        normal_image = cv2.resize(normal_image, (dimensions, dimensions))\n",
    "        normal_image = normal_image.astype('float32') / 255\n",
    "        label = 0\n",
    "        test_data.append(normal_image)\n",
    "        test_labels.append(label)\n",
    "\n",
    "    for pneumonia_image in (os.listdir(in_path + 'test' + '/PNEUMONIA/')):\n",
    "        pneumonia_image = plt.imread(in_path+'test'+'/PNEUMONIA/'+pneumonia_image)\n",
    "        pneumonia_image = cv2.resize(pneumonia_image, (dimensions, dimensions))\n",
    "        pneumonia_image = pneumonia_image.astype('float32') / 255\n",
    "        label = 1\n",
    "        test_data.append(pneumonia_image)\n",
    "        test_labels.append(label)\n",
    "\n",
    "    for normal_image in (os.listdir(in_path + 'train' + '/NORMAL/')):\n",
    "        if normal_image == '.DS_Store':\n",
    "            continue\n",
    "        normal_image = plt.imread(in_path+'train'+'/NORMAL/'+normal_image)\n",
    "        normal_image = cv2.resize(normal_image, (dimensions, dimensions))\n",
    "        normal_image = normal_image.astype('float32') / 255\n",
    "        label = 0\n",
    "        train_data.append(normal_image)\n",
    "        train_labels.append(label)\n",
    "\n",
    "    for pneumonia_image in (os.listdir(in_path + 'train' + '/PNEUMONIA/')):\n",
    "        if pneumonia_image == '.DS_Store':\n",
    "            continue\n",
    "        pneumonia_image = plt.imread(in_path+'train'+'/PNEUMONIA/'+pneumonia_image)\n",
    "        pneumonia_image = cv2.resize(pneumonia_image, (dimensions, dimensions))\n",
    "        pneumonia_image = pneumonia_image.astype('float32') / 255\n",
    "        label = 1\n",
    "        train_data.append(pneumonia_image)\n",
    "        train_labels.append(label)\n",
    "    \n",
    "    return tgen_final, test_gen, test_data, test_labels, train_data, train_labels"
   ]
  },
  {
   "cell_type": "code",
   "execution_count": 5,
   "metadata": {
    "_cell_guid": "79c7e3d0-c299-4dcb-8224-4455121ee9b0",
    "_uuid": "d629ff2d2480ee46fbb7e2d37f6b5fab8052498a"
   },
   "outputs": [
    {
     "name": "stdout",
     "output_type": "stream",
     "text": [
      "Found 32 images belonging to 2 classes.\n",
      "Found 8 images belonging to 2 classes.\n"
     ]
    }
   ],
   "source": [
    "img_dims = 100\n",
    "epochs = 10\n",
    "batch_size = 20\n",
    "\n",
    "train_gen, test_gen, test_data, test_labels, train_data, train_labels = extract_data(img_dims, batch_size)"
   ]
  },
  {
   "cell_type": "code",
   "execution_count": 6,
   "metadata": {},
   "outputs": [],
   "source": [
    "flat_train_data = []\n",
    "flat_test_data = []\n",
    "\n",
    "for img in train_data: \n",
    "    flat_train_data.append(img.flatten())\n",
    "    \n",
    "for img in test_data: \n",
    "    flat_test_data.append(img.flatten())"
   ]
  },
  {
   "cell_type": "code",
   "execution_count": 7,
   "metadata": {},
   "outputs": [],
   "source": [
    "listed_train_data = []\n",
    "listed_test_data = []\n",
    "\n",
    "for d in flat_train_data:\n",
    "    listed_train_data.append(d.tolist()[:150*150])\n",
    "    \n",
    "for d in flat_test_data:\n",
    "    listed_test_data.append(d.tolist()[:150*150])"
   ]
  },
  {
   "cell_type": "code",
   "execution_count": 8,
   "metadata": {},
   "outputs": [],
   "source": [
    "train_labels_mini = train_labels\n",
    "test_labels_mini = test_labels"
   ]
  },
  {
   "cell_type": "markdown",
   "metadata": {},
   "source": [
    "#### Support Vector Machine (SVM)"
   ]
  },
  {
   "cell_type": "code",
   "execution_count": 9,
   "metadata": {},
   "outputs": [],
   "source": [
    "clf = svm.SVC(kernel='sigmoid')\n",
    "prediction = clf.fit(listed_train_data, train_labels_mini)"
   ]
  },
  {
   "cell_type": "code",
   "execution_count": 10,
   "metadata": {},
   "outputs": [
    {
     "name": "stdout",
     "output_type": "stream",
     "text": [
      "TEST DATA________________________\n",
      "Accuracy: 100.0\n",
      "Confusion matrix: f_p = 0, t_p = 4, f_n = 0, t_n = 4\n"
     ]
    }
   ],
   "source": [
    "correctlyPredicted = 0\n",
    "fp = 0\n",
    "tp = 0\n",
    "fn = 0\n",
    "tn = 0\n",
    "\n",
    "for ind in range(len(listed_test_data)): \n",
    "    pred = clf.predict([listed_test_data[ind]])\n",
    "    real = test_labels_mini[ind]\n",
    "    if real == 1 and pred == 1:\n",
    "        tp += 1\n",
    "    if real == 1 and pred == 0:\n",
    "        fn += 1\n",
    "    if real == 0 and pred == 1:\n",
    "        fp += 1\n",
    "    if real == 0 and pred == 0:\n",
    "        tn += 1\n",
    "    if pred == real:\n",
    "        correctlyPredicted += 1\n",
    "\n",
    "acc = correctlyPredicted/float(len(listed_test_data))*100\n",
    "print(\"TEST DATA________________________\")\n",
    "print(\"Accuracy: {}\".format(acc))\n",
    "print(\"Confusion matrix: f_p = {}, t_p = {}, f_n = {}, t_n = {}\".format(fp, tp, fn, tn))"
   ]
  },
  {
   "cell_type": "code",
   "execution_count": 11,
   "metadata": {},
   "outputs": [
    {
     "name": "stdout",
     "output_type": "stream",
     "text": [
      "Precision: 1.0, Recall: 1.0\n"
     ]
    }
   ],
   "source": [
    "precision = tp/(tp+fp)\n",
    "recall = tp/(tp+fn)\n",
    "print(\"Precision: {}, Recall: {}\".format(precision, recall))"
   ]
  }
 ],
 "metadata": {
  "kernelspec": {
   "display_name": "Python 3",
   "language": "python",
   "name": "python3"
  },
  "language_info": {
   "codemirror_mode": {
    "name": "ipython",
    "version": 3
   },
   "file_extension": ".py",
   "mimetype": "text/x-python",
   "name": "python",
   "nbconvert_exporter": "python",
   "pygments_lexer": "ipython3",
   "version": "3.8.8"
  }
 },
 "nbformat": 4,
 "nbformat_minor": 1
}
